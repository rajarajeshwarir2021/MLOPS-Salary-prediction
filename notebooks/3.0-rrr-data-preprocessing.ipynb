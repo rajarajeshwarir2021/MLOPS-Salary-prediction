{
 "cells": [
  {
   "cell_type": "markdown",
   "id": "82932f0f-8c16-4d52-9826-9435d237723f",
   "metadata": {},
   "source": [
    "### Data Preprocessing"
   ]
  },
  {
   "cell_type": "markdown",
   "id": "0ad3f1f4-e7e8-4019-818d-6a0fefa3a239",
   "metadata": {},
   "source": [
    "#### Load data"
   ]
  },
  {
   "cell_type": "code",
   "execution_count": 1,
   "id": "2134cda9-5f77-4d05-9e8c-b25e11185a40",
   "metadata": {},
   "outputs": [],
   "source": [
    "# Import the libraries\n",
    "import pandas as pd"
   ]
  },
  {
   "cell_type": "code",
   "execution_count": 2,
   "id": "d69feaa2-7b47-4fdf-b487-452510a795f4",
   "metadata": {},
   "outputs": [],
   "source": [
    "# Get the dataframe\n",
    "df = pd.read_csv(\"E:\\\\RajaRajeshwari\\\\MyFolders\\\\Projects\\\\mlops_salary_prediction\\\\mlops_salary_prediction_main\\\\data\\\\raw\\\\salary_dataset.csv\", sep=\",\", encoding=\"utf-8\")"
   ]
  },
  {
   "cell_type": "markdown",
   "id": "3a915a3e-75da-4b98-a4e4-dd850827d132",
   "metadata": {},
   "source": [
    "#### Preprocess data based on Statistical Data Analysis"
   ]
  },
  {
   "cell_type": "code",
   "execution_count": 3,
   "id": "286ef462-abe0-4019-a260-e09226aeb9bf",
   "metadata": {},
   "outputs": [],
   "source": [
    "# Remove rows with missing values\n",
    "df = df.dropna(how='any',axis=0) "
   ]
  },
  {
   "cell_type": "code",
   "execution_count": 4,
   "id": "2e91a6c4-46a5-4d89-ade1-4e29c48c4597",
   "metadata": {},
   "outputs": [],
   "source": [
    "# Remove duplicate rows\n",
    "df.drop_duplicates(keep=False, inplace=True)"
   ]
  },
  {
   "cell_type": "code",
   "execution_count": 5,
   "id": "27db5c36-6e31-4fb6-9433-f4b58a200895",
   "metadata": {},
   "outputs": [],
   "source": [
    "# Rename column names\n",
    "new_cols = [col.replace(\" \", \"_\") for col in df.columns]\n",
    "df.columns = new_cols"
   ]
  },
  {
   "cell_type": "markdown",
   "id": "30416d60-f907-4525-b03d-e29330298bf5",
   "metadata": {},
   "source": [
    "#### Preprocess data based on Exploratory Data Analysis"
   ]
  },
  {
   "cell_type": "code",
   "execution_count": 6,
   "id": "85a7dd13-ff97-4608-b45e-f0f53ac8a783",
   "metadata": {},
   "outputs": [],
   "source": [
    "# Drop the Age column\n",
    "df = df.drop('Age', axis=1)"
   ]
  },
  {
   "cell_type": "code",
   "execution_count": 7,
   "id": "f557e40d-3b7a-4bff-ac22-df8d20faff35",
   "metadata": {},
   "outputs": [],
   "source": [
    "# Save the min max schema of the dataframe\n",
    "overview = df.describe()\n",
    "overview.loc[[\"min\", \"max\"]].to_json(\"schema_data.json\")"
   ]
  },
  {
   "cell_type": "code",
   "execution_count": 8,
   "id": "9977e7e0-df3e-47e6-881c-5a42bf9c362c",
   "metadata": {},
   "outputs": [
    {
     "name": "stdout",
     "output_type": "stream",
     "text": [
      "{'Education_Level': {\"Bachelor's\": 0, \"Master's\": 1, 'PhD': 2}, 'Job_Title': {'Account Manager': 0, 'Accountant': 1, 'Administrative Assistant': 2, 'Business Analyst': 3, 'Business Development Manager': 4, 'Business Intelligence Analyst': 5, 'CEO': 6, 'Chief Data Officer': 7, 'Chief Technology Officer': 8, 'Content Marketing Manager': 9, 'Copywriter': 10, 'Creative Director': 11, 'Customer Service Manager': 12, 'Customer Service Rep': 13, 'Customer Service Representative': 14, 'Customer Success Manager': 15, 'Customer Success Rep': 16, 'Data Analyst': 17, 'Data Entry Clerk': 18, 'Data Scientist': 19, 'Digital Content Producer': 20, 'Digital Marketing Manager': 21, 'Director': 22, 'Director of Business Development': 23, 'Director of Engineering': 24, 'Director of Finance': 25, 'Director of HR': 26, 'Director of Human Capital': 27, 'Director of Human Resources': 28, 'Director of Marketing': 29, 'Director of Operations': 30, 'Director of Product Management': 31, 'Director of Sales': 32, 'Director of Sales and Marketing': 33, 'Event Coordinator': 34, 'Financial Advisor': 35, 'Financial Analyst': 36, 'Financial Manager': 37, 'Graphic Designer': 38, 'HR Generalist': 39, 'HR Manager': 40, 'Help Desk Analyst': 41, 'Human Resources Director': 42, 'IT Manager': 43, 'IT Support': 44, 'IT Support Specialist': 45, 'Junior Account Manager': 46, 'Junior Accountant': 47, 'Junior Advertising Coordinator': 48, 'Junior Business Analyst': 49, 'Junior Business Development Associate': 50, 'Junior Business Operations Analyst': 51, 'Junior Copywriter': 52, 'Junior Customer Support Specialist': 53, 'Junior Data Analyst': 54, 'Junior Data Scientist': 55, 'Junior Designer': 56, 'Junior Developer': 57, 'Junior Financial Advisor': 58, 'Junior Financial Analyst': 59, 'Junior HR Coordinator': 60, 'Junior HR Generalist': 61, 'Junior Marketing Analyst': 62, 'Junior Marketing Coordinator': 63, 'Junior Marketing Manager': 64, 'Junior Marketing Specialist': 65, 'Junior Operations Analyst': 66, 'Junior Operations Coordinator': 67, 'Junior Operations Manager': 68, 'Junior Product Manager': 69, 'Junior Project Manager': 70, 'Junior Recruiter': 71, 'Junior Research Scientist': 72, 'Junior Sales Representative': 73, 'Junior Social Media Manager': 74, 'Junior Social Media Specialist': 75, 'Junior Software Developer': 76, 'Junior Software Engineer': 77, 'Junior UX Designer': 78, 'Junior Web Designer': 79, 'Junior Web Developer': 80, 'Marketing Analyst': 81, 'Marketing Coordinator': 82, 'Marketing Manager': 83, 'Marketing Specialist': 84, 'Network Engineer': 85, 'Office Manager': 86, 'Operations Analyst': 87, 'Operations Director': 88, 'Operations Manager': 89, 'Principal Engineer': 90, 'Principal Scientist': 91, 'Product Designer': 92, 'Product Manager': 93, 'Product Marketing Manager': 94, 'Project Engineer': 95, 'Project Manager': 96, 'Public Relations Manager': 97, 'Recruiter': 98, 'Research Director': 99, 'Research Scientist': 100, 'Sales Associate': 101, 'Sales Director': 102, 'Sales Executive': 103, 'Sales Manager': 104, 'Sales Operations Manager': 105, 'Sales Representative': 106, 'Senior Account Executive': 107, 'Senior Account Manager': 108, 'Senior Accountant': 109, 'Senior Business Analyst': 110, 'Senior Business Development Manager': 111, 'Senior Consultant': 112, 'Senior Data Analyst': 113, 'Senior Data Scientist': 114, 'Senior Engineer': 115, 'Senior Financial Advisor': 116, 'Senior Financial Analyst': 117, 'Senior Financial Manager': 118, 'Senior Graphic Designer': 119, 'Senior HR Generalist': 120, 'Senior HR Manager': 121, 'Senior HR Specialist': 122, 'Senior Human Resources Coordinator': 123, 'Senior Human Resources Manager': 124, 'Senior Human Resources Specialist': 125, 'Senior IT Project Manager': 126, 'Senior IT Support Specialist': 127, 'Senior Manager': 128, 'Senior Marketing Analyst': 129, 'Senior Marketing Coordinator': 130, 'Senior Marketing Director': 131, 'Senior Marketing Manager': 132, 'Senior Marketing Specialist': 133, 'Senior Operations Analyst': 134, 'Senior Operations Coordinator': 135, 'Senior Operations Manager': 136, 'Senior Product Designer': 137, 'Senior Product Development Manager': 138, 'Senior Product Manager': 139, 'Senior Product Marketing Manager': 140, 'Senior Project Coordinator': 141, 'Senior Project Manager': 142, 'Senior Quality Assurance Analyst': 143, 'Senior Research Scientist': 144, 'Senior Researcher': 145, 'Senior Sales Manager': 146, 'Senior Sales Representative': 147, 'Senior Scientist': 148, 'Senior Software Architect': 149, 'Senior Software Developer': 150, 'Senior Software Engineer': 151, 'Senior Training Specialist': 152, 'Senior UX Designer': 153, 'Social Media Manager': 154, 'Social Media Specialist': 155, 'Software Developer': 156, 'Software Engineer': 157, 'Software Manager': 158, 'Software Project Manager': 159, 'Strategy Consultant': 160, 'Supply Chain Analyst': 161, 'Supply Chain Manager': 162, 'Technical Recruiter': 163, 'Technical Support Specialist': 164, 'Technical Writer': 165, 'Training Specialist': 166, 'UX Designer': 167, 'UX Researcher': 168, 'VP of Finance': 169, 'VP of Operations': 170, 'Web Developer': 171}}\n"
     ]
    }
   ],
   "source": [
    "# Label Encode rankable Categorical columns\n",
    "import json\n",
    "import joblib\n",
    "from sklearn.preprocessing import LabelEncoder\n",
    "\n",
    "label_map = {}\n",
    "label_encoder = LabelEncoder()\n",
    "categorical_cols = ['Education_Level', 'Job_Title']\n",
    "\n",
    "for col in categorical_cols:\n",
    "    # Label encode categorical column\n",
    "    df[col] = label_encoder.fit_transform(df[col])\n",
    "    \n",
    "    # Save the Label encoder\n",
    "    joblib.dump(label_encoder, f\"{col}_LabelEncoder.joblib\", compress=9)\n",
    "    \n",
    "    # Get the label mapping\n",
    "    encoder_mapping = dict(zip(label_encoder.classes_.tolist(), label_encoder.transform(label_encoder.classes_).tolist()))\n",
    "    label_map[col] = encoder_mapping\n",
    "\n",
    "print(label_map)\n",
    "    \n",
    "# Save the label mapping    \n",
    "with open(\"label_map.json\", 'w') as f:\n",
    "    json.dump(label_map, f)"
   ]
  },
  {
   "cell_type": "code",
   "execution_count": 9,
   "id": "c2359817-577d-442c-a3ac-5a666fdcd6a1",
   "metadata": {},
   "outputs": [
    {
     "data": {
      "text/plain": [
       "['OneHotEncoder.joblib']"
      ]
     },
     "execution_count": 9,
     "metadata": {},
     "output_type": "execute_result"
    }
   ],
   "source": [
    "# One Hot Encode non-rankable Categorical Data Column\n",
    "from sklearn.compose import ColumnTransformer\n",
    "from sklearn.preprocessing import OneHotEncoder\n",
    "import joblib\n",
    "\n",
    "ct = ColumnTransformer(transformers=[('encoder', OneHotEncoder(), [0])], remainder='passthrough')\n",
    "df = ct.fit_transform(df)\n",
    "\n",
    "# Save the One Hot encoder\n",
    "joblib.dump(ct, \"OneHotEncoder.joblib\", compress=9)"
   ]
  },
  {
   "cell_type": "code",
   "execution_count": 10,
   "id": "117857e1-d9c2-47f5-ba09-265641e1e718",
   "metadata": {},
   "outputs": [
    {
     "name": "stdout",
     "output_type": "stream",
     "text": [
      "[[0.00e+00 1.00e+00 0.00e+00 1.57e+02 5.00e+00 9.00e+04]\n",
      " [1.00e+00 0.00e+00 1.00e+00 1.70e+01 3.00e+00 6.50e+04]\n",
      " [0.00e+00 1.00e+00 2.00e+00 1.28e+02 1.50e+01 1.50e+05]\n",
      " ...\n",
      " [1.00e+00 0.00e+00 2.00e+00 1.14e+02 1.60e+01 1.60e+05]\n",
      " [0.00e+00 1.00e+00 0.00e+00 6.30e+01 3.00e+00 5.50e+04]\n",
      " [0.00e+00 1.00e+00 1.00e+00 3.00e+01 1.90e+01 1.70e+05]]\n"
     ]
    }
   ],
   "source": [
    "print(df)"
   ]
  }
 ],
 "metadata": {
  "kernelspec": {
   "display_name": "Python 3 (ipykernel)",
   "language": "python",
   "name": "python3"
  },
  "language_info": {
   "codemirror_mode": {
    "name": "ipython",
    "version": 3
   },
   "file_extension": ".py",
   "mimetype": "text/x-python",
   "name": "python",
   "nbconvert_exporter": "python",
   "pygments_lexer": "ipython3",
   "version": "3.10.0"
  }
 },
 "nbformat": 4,
 "nbformat_minor": 5
}
