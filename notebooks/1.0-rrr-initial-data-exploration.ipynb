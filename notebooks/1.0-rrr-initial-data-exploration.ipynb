{
 "cells": [
  {
   "cell_type": "markdown",
   "id": "2d38c1bc-497f-45be-a301-dfe82ee3330a",
   "metadata": {},
   "source": [
    "### Statistical Data Analysis"
   ]
  },
  {
   "cell_type": "markdown",
   "id": "508e8448-9b4a-418f-b118-a2ce7f808c92",
   "metadata": {},
   "source": [
    "#### Load data"
   ]
  },
  {
   "cell_type": "code",
   "execution_count": 1,
   "id": "f63b3e19-5437-4282-a717-f2efe5d0d9b0",
   "metadata": {},
   "outputs": [],
   "source": [
    "# Import the libraries\n",
    "import pandas as pd"
   ]
  },
  {
   "cell_type": "code",
   "execution_count": 2,
   "id": "3c408a19-c5b3-4ad0-a18c-3303b780bdc1",
   "metadata": {},
   "outputs": [],
   "source": [
    "# Get the dataframe\n",
    "df = pd.read_csv(\"E:\\\\RajaRajeshwari\\\\MyFolders\\\\Projects\\\\mlops_salary_prediction\\\\mlops_salary_prediction_main\\\\data\\\\raw\\\\salary_dataset.csv\", sep=\",\", encoding=\"utf-8\")"
   ]
  },
  {
   "cell_type": "code",
   "execution_count": 3,
   "id": "69d0ccc2-747c-43d9-a22d-a296cf947b5b",
   "metadata": {},
   "outputs": [
    {
     "data": {
      "text/plain": [
       "(375, 6)"
      ]
     },
     "execution_count": 3,
     "metadata": {},
     "output_type": "execute_result"
    }
   ],
   "source": [
    "# Get the shape of the dataframe\n",
    "df.shape"
   ]
  },
  {
   "cell_type": "code",
   "execution_count": 4,
   "id": "c60914de-f746-4d4a-9998-5cda56542fd1",
   "metadata": {},
   "outputs": [
    {
     "data": {
      "text/plain": [
       "Index(['Age', 'Gender', 'Education Level', 'Job Title', 'Years of Experience',\n",
       "       'Salary'],\n",
       "      dtype='object')"
      ]
     },
     "execution_count": 4,
     "metadata": {},
     "output_type": "execute_result"
    }
   ],
   "source": [
    "# Display the headers\n",
    "df.columns"
   ]
  },
  {
   "cell_type": "code",
   "execution_count": 5,
   "id": "087cf02c-29af-440b-a80b-3a0ba98c036c",
   "metadata": {},
   "outputs": [
    {
     "data": {
      "text/plain": [
       "Age                    2\n",
       "Gender                 2\n",
       "Education Level        2\n",
       "Job Title              2\n",
       "Years of Experience    2\n",
       "Salary                 2\n",
       "dtype: int64"
      ]
     },
     "execution_count": 5,
     "metadata": {},
     "output_type": "execute_result"
    }
   ],
   "source": [
    "# Check for missing values\n",
    "df.isna().sum()"
   ]
  },
  {
   "cell_type": "code",
   "execution_count": 6,
   "id": "47661855-646a-4b95-a8c4-f11d14f98ad6",
   "metadata": {},
   "outputs": [
    {
     "name": "stdout",
     "output_type": "stream",
     "text": [
      "     Age Gender Education Level Job Title  Years of Experience  Salary\n",
      "172  NaN    NaN             NaN       NaN                  NaN     NaN\n",
      "260  NaN    NaN             NaN       NaN                  NaN     NaN\n"
     ]
    }
   ],
   "source": [
    "# Find and print the rows with missing values\n",
    "nan_values = df[df.isna().any(axis=1)]\n",
    "print(nan_values)"
   ]
  },
  {
   "cell_type": "code",
   "execution_count": 7,
   "id": "c3ae549a-4364-43b4-a363-c336d4e987a0",
   "metadata": {},
   "outputs": [
    {
     "data": {
      "text/plain": [
       "50"
      ]
     },
     "execution_count": 7,
     "metadata": {},
     "output_type": "execute_result"
    }
   ],
   "source": [
    "# Check for duplicate rows\n",
    "df.duplicated().sum()"
   ]
  },
  {
   "cell_type": "code",
   "execution_count": 8,
   "id": "2baea3c9-85bd-4961-8553-a1da3498d778",
   "metadata": {},
   "outputs": [
    {
     "data": {
      "text/html": [
       "<div>\n",
       "<style scoped>\n",
       "    .dataframe tbody tr th:only-of-type {\n",
       "        vertical-align: middle;\n",
       "    }\n",
       "\n",
       "    .dataframe tbody tr th {\n",
       "        vertical-align: top;\n",
       "    }\n",
       "\n",
       "    .dataframe thead th {\n",
       "        text-align: right;\n",
       "    }\n",
       "</style>\n",
       "<table border=\"1\" class=\"dataframe\">\n",
       "  <thead>\n",
       "    <tr style=\"text-align: right;\">\n",
       "      <th></th>\n",
       "      <th>Age</th>\n",
       "      <th>Gender</th>\n",
       "      <th>Education Level</th>\n",
       "      <th>Job Title</th>\n",
       "      <th>Years of Experience</th>\n",
       "      <th>Salary</th>\n",
       "    </tr>\n",
       "  </thead>\n",
       "  <tbody>\n",
       "    <tr>\n",
       "      <th>0</th>\n",
       "      <td>32.0</td>\n",
       "      <td>Male</td>\n",
       "      <td>Bachelor's</td>\n",
       "      <td>Software Engineer</td>\n",
       "      <td>5.0</td>\n",
       "      <td>90000.0</td>\n",
       "    </tr>\n",
       "    <tr>\n",
       "      <th>1</th>\n",
       "      <td>28.0</td>\n",
       "      <td>Female</td>\n",
       "      <td>Master's</td>\n",
       "      <td>Data Analyst</td>\n",
       "      <td>3.0</td>\n",
       "      <td>65000.0</td>\n",
       "    </tr>\n",
       "    <tr>\n",
       "      <th>2</th>\n",
       "      <td>45.0</td>\n",
       "      <td>Male</td>\n",
       "      <td>PhD</td>\n",
       "      <td>Senior Manager</td>\n",
       "      <td>15.0</td>\n",
       "      <td>150000.0</td>\n",
       "    </tr>\n",
       "    <tr>\n",
       "      <th>3</th>\n",
       "      <td>36.0</td>\n",
       "      <td>Female</td>\n",
       "      <td>Bachelor's</td>\n",
       "      <td>Sales Associate</td>\n",
       "      <td>7.0</td>\n",
       "      <td>60000.0</td>\n",
       "    </tr>\n",
       "    <tr>\n",
       "      <th>4</th>\n",
       "      <td>52.0</td>\n",
       "      <td>Male</td>\n",
       "      <td>Master's</td>\n",
       "      <td>Director</td>\n",
       "      <td>20.0</td>\n",
       "      <td>200000.0</td>\n",
       "    </tr>\n",
       "  </tbody>\n",
       "</table>\n",
       "</div>"
      ],
      "text/plain": [
       "    Age  Gender Education Level          Job Title  Years of Experience  \\\n",
       "0  32.0    Male      Bachelor's  Software Engineer                  5.0   \n",
       "1  28.0  Female        Master's       Data Analyst                  3.0   \n",
       "2  45.0    Male             PhD     Senior Manager                 15.0   \n",
       "3  36.0  Female      Bachelor's    Sales Associate                  7.0   \n",
       "4  52.0    Male        Master's           Director                 20.0   \n",
       "\n",
       "     Salary  \n",
       "0   90000.0  \n",
       "1   65000.0  \n",
       "2  150000.0  \n",
       "3   60000.0  \n",
       "4  200000.0  "
      ]
     },
     "execution_count": 8,
     "metadata": {},
     "output_type": "execute_result"
    }
   ],
   "source": [
    "# Display the top 5 rows of the dataframe\n",
    "df.head()"
   ]
  },
  {
   "cell_type": "code",
   "execution_count": 9,
   "id": "dfb4d9fa-32a5-4557-aeff-07b5ec427d8d",
   "metadata": {},
   "outputs": [
    {
     "name": "stdout",
     "output_type": "stream",
     "text": [
      "<class 'pandas.core.frame.DataFrame'>\n",
      "RangeIndex: 375 entries, 0 to 374\n",
      "Data columns (total 6 columns):\n",
      " #   Column               Non-Null Count  Dtype  \n",
      "---  ------               --------------  -----  \n",
      " 0   Age                  373 non-null    float64\n",
      " 1   Gender               373 non-null    object \n",
      " 2   Education Level      373 non-null    object \n",
      " 3   Job Title            373 non-null    object \n",
      " 4   Years of Experience  373 non-null    float64\n",
      " 5   Salary               373 non-null    float64\n",
      "dtypes: float64(3), object(3)\n",
      "memory usage: 17.7+ KB\n"
     ]
    }
   ],
   "source": [
    "# Describe the number of non-null values and the data type\n",
    "df.info()"
   ]
  },
  {
   "cell_type": "code",
   "execution_count": 10,
   "id": "692e76c8-669e-4563-b1d9-f4c6623593ea",
   "metadata": {},
   "outputs": [
    {
     "data": {
      "text/html": [
       "<div>\n",
       "<style scoped>\n",
       "    .dataframe tbody tr th:only-of-type {\n",
       "        vertical-align: middle;\n",
       "    }\n",
       "\n",
       "    .dataframe tbody tr th {\n",
       "        vertical-align: top;\n",
       "    }\n",
       "\n",
       "    .dataframe thead th {\n",
       "        text-align: right;\n",
       "    }\n",
       "</style>\n",
       "<table border=\"1\" class=\"dataframe\">\n",
       "  <thead>\n",
       "    <tr style=\"text-align: right;\">\n",
       "      <th></th>\n",
       "      <th>count</th>\n",
       "      <th>mean</th>\n",
       "      <th>std</th>\n",
       "      <th>min</th>\n",
       "      <th>25%</th>\n",
       "      <th>50%</th>\n",
       "      <th>75%</th>\n",
       "      <th>max</th>\n",
       "    </tr>\n",
       "  </thead>\n",
       "  <tbody>\n",
       "    <tr>\n",
       "      <th>Age</th>\n",
       "      <td>373.0</td>\n",
       "      <td>37.431635</td>\n",
       "      <td>7.069073</td>\n",
       "      <td>23.0</td>\n",
       "      <td>31.0</td>\n",
       "      <td>36.0</td>\n",
       "      <td>44.0</td>\n",
       "      <td>53.0</td>\n",
       "    </tr>\n",
       "    <tr>\n",
       "      <th>Years of Experience</th>\n",
       "      <td>373.0</td>\n",
       "      <td>10.030831</td>\n",
       "      <td>6.557007</td>\n",
       "      <td>0.0</td>\n",
       "      <td>4.0</td>\n",
       "      <td>9.0</td>\n",
       "      <td>15.0</td>\n",
       "      <td>25.0</td>\n",
       "    </tr>\n",
       "    <tr>\n",
       "      <th>Salary</th>\n",
       "      <td>373.0</td>\n",
       "      <td>100577.345845</td>\n",
       "      <td>48240.013482</td>\n",
       "      <td>350.0</td>\n",
       "      <td>55000.0</td>\n",
       "      <td>95000.0</td>\n",
       "      <td>140000.0</td>\n",
       "      <td>250000.0</td>\n",
       "    </tr>\n",
       "  </tbody>\n",
       "</table>\n",
       "</div>"
      ],
      "text/plain": [
       "                     count           mean           std    min      25%  \\\n",
       "Age                  373.0      37.431635      7.069073   23.0     31.0   \n",
       "Years of Experience  373.0      10.030831      6.557007    0.0      4.0   \n",
       "Salary               373.0  100577.345845  48240.013482  350.0  55000.0   \n",
       "\n",
       "                         50%       75%       max  \n",
       "Age                     36.0      44.0      53.0  \n",
       "Years of Experience      9.0      15.0      25.0  \n",
       "Salary               95000.0  140000.0  250000.0  "
      ]
     },
     "execution_count": 10,
     "metadata": {},
     "output_type": "execute_result"
    }
   ],
   "source": [
    "# Describe numerical data\n",
    "df.describe().T"
   ]
  },
  {
   "cell_type": "code",
   "execution_count": 11,
   "id": "682b1a48-bde7-44a1-aca3-19ec20aca784",
   "metadata": {},
   "outputs": [
    {
     "data": {
      "text/html": [
       "<div>\n",
       "<style scoped>\n",
       "    .dataframe tbody tr th:only-of-type {\n",
       "        vertical-align: middle;\n",
       "    }\n",
       "\n",
       "    .dataframe tbody tr th {\n",
       "        vertical-align: top;\n",
       "    }\n",
       "\n",
       "    .dataframe thead th {\n",
       "        text-align: right;\n",
       "    }\n",
       "</style>\n",
       "<table border=\"1\" class=\"dataframe\">\n",
       "  <thead>\n",
       "    <tr style=\"text-align: right;\">\n",
       "      <th></th>\n",
       "      <th>Age</th>\n",
       "      <th>Gender</th>\n",
       "      <th>Education Level</th>\n",
       "      <th>Job Title</th>\n",
       "      <th>Years of Experience</th>\n",
       "      <th>Salary</th>\n",
       "    </tr>\n",
       "  </thead>\n",
       "  <tbody>\n",
       "    <tr>\n",
       "      <th>count</th>\n",
       "      <td>373.0</td>\n",
       "      <td>373</td>\n",
       "      <td>373</td>\n",
       "      <td>373</td>\n",
       "      <td>373.0</td>\n",
       "      <td>373.0</td>\n",
       "    </tr>\n",
       "    <tr>\n",
       "      <th>unique</th>\n",
       "      <td>31.0</td>\n",
       "      <td>2</td>\n",
       "      <td>3</td>\n",
       "      <td>174</td>\n",
       "      <td>28.0</td>\n",
       "      <td>36.0</td>\n",
       "    </tr>\n",
       "    <tr>\n",
       "      <th>top</th>\n",
       "      <td>33.0</td>\n",
       "      <td>Male</td>\n",
       "      <td>Bachelor's</td>\n",
       "      <td>Director of Marketing</td>\n",
       "      <td>2.0</td>\n",
       "      <td>40000.0</td>\n",
       "    </tr>\n",
       "    <tr>\n",
       "      <th>freq</th>\n",
       "      <td>24.0</td>\n",
       "      <td>194</td>\n",
       "      <td>224</td>\n",
       "      <td>12</td>\n",
       "      <td>31.0</td>\n",
       "      <td>31.0</td>\n",
       "    </tr>\n",
       "  </tbody>\n",
       "</table>\n",
       "</div>"
      ],
      "text/plain": [
       "          Age Gender Education Level              Job Title  \\\n",
       "count   373.0    373             373                    373   \n",
       "unique   31.0      2               3                    174   \n",
       "top      33.0   Male      Bachelor's  Director of Marketing   \n",
       "freq     24.0    194             224                     12   \n",
       "\n",
       "        Years of Experience   Salary  \n",
       "count                 373.0    373.0  \n",
       "unique                 28.0     36.0  \n",
       "top                     2.0  40000.0  \n",
       "freq                   31.0     31.0  "
      ]
     },
     "execution_count": 11,
     "metadata": {},
     "output_type": "execute_result"
    }
   ],
   "source": [
    "# Describe categorical statistics\n",
    "df.astype('object').describe()"
   ]
  },
  {
   "cell_type": "markdown",
   "id": "16705b96-39c4-43f1-ac6a-f27e9b0cc5f5",
   "metadata": {},
   "source": [
    "##### __Inference:__\n",
    "* We have 375 rows and 6 columns\n",
    "* There are 2 missing values per column, but these seem to have 2 entire rows of missing values\n",
    "* There are 50 Duplicate rows\n",
    "* Salary Column is the TARGET\n",
    "<br>\n",
    "- Numerical data columns: Age, Years of Experience, Salary\n",
    "- Categorical data columns: Gender, Education Level, Job Title\n",
    "    - Gender: One hot encoder\n",
    "    - Education: Label encoder\n",
    "    - Job title: Label encoder"
   ]
  },
  {
   "cell_type": "code",
   "execution_count": null,
   "id": "622d5fb5-a1d3-4cde-8970-00458cd5421c",
   "metadata": {},
   "outputs": [],
   "source": []
  }
 ],
 "metadata": {
  "kernelspec": {
   "display_name": "Python 3 (ipykernel)",
   "language": "python",
   "name": "python3"
  },
  "language_info": {
   "codemirror_mode": {
    "name": "ipython",
    "version": 3
   },
   "file_extension": ".py",
   "mimetype": "text/x-python",
   "name": "python",
   "nbconvert_exporter": "python",
   "pygments_lexer": "ipython3",
   "version": "3.10.0"
  }
 },
 "nbformat": 4,
 "nbformat_minor": 5
}
